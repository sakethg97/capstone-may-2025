{
 "cells": [
  {
   "cell_type": "markdown",
   "metadata": {
    "application/vnd.databricks.v1+cell": {
     "cellMetadata": {},
     "inputWidgets": {},
     "nuid": "2328b427-8dca-4a75-babd-50df4e0052a2",
     "showTitle": false,
     "tableResultSettingsMap": {},
     "title": ""
    }
   },
   "source": [
    "# 06 - Dimensional Modeling: Symbol, Date, and Sentiment Dimensions\n",
    "\n",
    "##  Notebook Purpose\n",
    "\n",
    "This notebook creates core **dimension tables** to support a star schema design for the crypto sentiment vs price correlation project. These dimensions provide structured metadata for slicing, filtering, and enriching the main fact table: `gold_sentiment_price_combined`.\n",
    "\n",
    "##  Dimension Tables Created\n",
    "\n",
    "###  `dim_symbol`\n",
    "A reference table that maps cryptocurrency tickers (`symbol`) to human-readable names and categories such as \"Layer 1\", \"Meme\", or \"Exchange Token\". Enables clear labeling in dashboards and grouping by coin type.\n",
    "\n",
    "| symbol | coin_name     | category           |\n",
    "|--------|---------------|--------------------|\n",
    "| BTC    | Bitcoin       | Layer 1            |\n",
    "| DOGE   | Dogecoin      | Meme               |\n",
    "| BNB    | Binance Coin  | Exchange           |\n",
    "| …      | …             | …                  |\n",
    "\n",
    "---\n",
    "\n",
    "### `dim_date`\n",
    "A full date dimension covering every day in 2025. It includes common calendar attributes such as weekday name, month name, and a weekend flag. Useful for filtering, grouping, and time-series analysis.\n",
    "\n",
    "| event_date | month_name | weekday_name | is_weekend |\n",
    "|------------|------------|---------------|------------|\n",
    "| 2025-01-01 | January    | Wednesday     | false      |\n",
    "| 2025-01-04 | January    | Saturday      | true       |\n",
    "\n",
    "---\n",
    "\n",
    "###  `dim_sentiment_direction`\n",
    "Maps technical sentiment direction values from your pipeline (`positive_day`, `neutral_day`, etc.) to readable labels and optional dashboard color codes.\n",
    "\n",
    "| sentiment_direction | sentiment_label | color_code |\n",
    "|---------------------|------------------|------------|\n",
    "| positive_day        | Positive         | #2ecc71    |\n",
    "| negative_day        | Negative         | #e74c3c    |\n",
    "| neutral_day         | Neutral          | #95a5a6    |\n",
    "\n",
    "---\n",
    "\n",
    "##  Benefits\n",
    "\n",
    "- Enables **semantic joins** in your dashboards or BI tools  \n",
    "- Supports **star schema** design for better performance and clarity  \n",
    "- Makes sentiment, symbol, and date dimensions **explorable and human-readable**\n",
    "\n",
    "---\n",
    "\n",
    "*Run this notebook once before querying the fact table or building dashboard joins.*\n"
   ]
  },
  {
   "cell_type": "code",
   "execution_count": 0,
   "metadata": {
    "application/vnd.databricks.v1+cell": {
     "cellMetadata": {
      "byteLimit": 2048000,
      "rowLimit": 10000
     },
     "inputWidgets": {},
     "nuid": "876ff2ec-7949-439c-813d-2f3b7447835d",
     "showTitle": false,
     "tableResultSettingsMap": {},
     "title": ""
    }
   },
   "outputs": [],
   "source": [
    "USE CATALOG tabular;\n",
    "USE SCHEMA dataexpert;"
   ]
  },
  {
   "cell_type": "code",
   "execution_count": 0,
   "metadata": {
    "application/vnd.databricks.v1+cell": {
     "cellMetadata": {
      "byteLimit": 2048000,
      "rowLimit": 10000
     },
     "inputWidgets": {},
     "nuid": "624f3190-26cc-4167-9da0-185121780406",
     "showTitle": false,
     "tableResultSettingsMap": {},
     "title": ""
    }
   },
   "outputs": [],
   "source": [
    "-- ========================================================================================\n",
    "-- dim_symbol: Lookup table for crypto symbols\n",
    "-- Contains human-readable names and categories for each crypto asset\n",
    "-- Supports semantic joins and grouping by coin type in dashboards\n",
    "-- ========================================================================================\n",
    "CREATE OR REPLACE TABLE sakethg_capstone_project_1_dim_symbol AS\n",
    "SELECT * FROM VALUES\n",
    "  ('BTC', 'Bitcoin', 'Layer 1'),\n",
    "  ('ETH', 'Ethereum', 'Layer 1'),\n",
    "  ('BNB', 'Binance Coin', 'Exchange'),\n",
    "  ('SOL', 'Solana', 'Layer 1'),\n",
    "  ('XRP', 'Ripple', 'Payments'),\n",
    "  ('DOGE', 'Dogecoin', 'Meme'),\n",
    "  ('ADA', 'Cardano', 'Layer 1'),\n",
    "  ('DOT', 'Polkadot', 'Interoperability')\n",
    "AS symbol_table(symbol, coin_name, category);\n",
    "\n",
    "\n",
    "-- ========================================================================================\n",
    "-- dim_date: Full calendar dimension for the year 2025\n",
    "-- Includes useful calendar breakdowns (month, weekday, is_weekend)\n",
    "-- Enables date filtering and grouping in fact tables and dashboards\n",
    "-- ========================================================================================\n",
    "CREATE OR REPLACE TABLE sakethg_capstone_project_1_dim_date AS\n",
    "WITH calendar AS (\n",
    "  -- Generate all dates for 2025\n",
    "  SELECT explode(sequence(to_date('2025-01-01'), to_date('2025-12-31'), interval 1 day)) AS event_date\n",
    ")\n",
    "SELECT\n",
    "  event_date,\n",
    "  year(event_date) AS year,\n",
    "  month(event_date) AS month,\n",
    "  day(event_date) AS day,\n",
    "  date_format(event_date, 'MMMM') AS month_name,\n",
    "  CASE EXTRACT(DAYOFWEEK FROM event_date)\n",
    "    WHEN 1 THEN 'Sunday'\n",
    "    WHEN 2 THEN 'Monday'\n",
    "    WHEN 3 THEN 'Tuesday'\n",
    "    WHEN 4 THEN 'Wednesday'\n",
    "    WHEN 5 THEN 'Thursday'\n",
    "    WHEN 6 THEN 'Friday'\n",
    "    WHEN 7 THEN 'Saturday'\n",
    "  END AS weekday_name,\n",
    "  CASE WHEN EXTRACT(DAYOFWEEK FROM event_date) IN (1, 7) THEN true ELSE false END AS is_weekend -- Mark weekends (1 = Sunday, 7 = Saturday)\n",
    "FROM calendar;\n",
    "\n",
    "\n",
    "-- ========================================================================================\n",
    "-- dim_sentiment_direction: Maps internal sentiment codes to user-friendly labels and colors\n",
    "-- Useful for consistent coloring and filtering in visualizations\n",
    "-- ========================================================================================\n",
    "CREATE OR REPLACE TABLE sakethg_capstone_project_1_dim_sentiment_direction AS\n",
    "SELECT * FROM VALUES\n",
    "  ('positive_day', 'Positive', '#2ecc71'),\n",
    "  ('negative_day', 'Negative', '#e74c3c'),\n",
    "  ('neutral_day',  'Neutral',  '#95a5a6')\n",
    "AS t(sentiment_direction, sentiment_label, color_code);"
   ]
  }
 ],
 "metadata": {
  "application/vnd.databricks.v1+notebook": {
   "computePreferences": null,
   "dashboards": [],
   "environmentMetadata": {
    "base_environment": "",
    "environment_version": "2"
   },
   "inputWidgetPreferences": null,
   "language": "sql",
   "notebookMetadata": {
    "pythonIndentUnit": 4
   },
   "notebookName": "06_Dimensions_Setup",
   "widgets": {}
  },
  "language_info": {
   "name": "sql"
  }
 },
 "nbformat": 4,
 "nbformat_minor": 0
}
