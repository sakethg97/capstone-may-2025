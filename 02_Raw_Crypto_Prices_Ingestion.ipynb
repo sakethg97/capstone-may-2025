{
 "cells": [
  {
   "cell_type": "markdown",
   "metadata": {
    "application/vnd.databricks.v1+cell": {
     "cellMetadata": {},
     "inputWidgets": {},
     "nuid": "c0a90ace-16e3-41f9-9688-7f90dc442ec9",
     "showTitle": false,
     "tableResultSettingsMap": {},
     "title": ""
    }
   },
   "source": [
    "# CoinGecko API OHLC Price Ingestion Notebook\n",
    "--------------------------------------------------------------------------------\n",
    "## Description\n",
    "\n",
    "This notebook fetches Open-High-Low-Close (OHLC) price data for selected cryptocurrencies from the CoinGecko API. It handles batching, basic rate limit mitigation, and writes the price data as JSON files to a raw landing volume for downstream processing.\n",
    "\n",
    "--------------------------------------------------------------------------------\n",
    "### Key Features:\n",
    "\n",
    "-  Supports configurable batch size to control API request volume  \n",
    "-  Allows flexible time ranges for OHLC data using the `days` parameter  \n",
    "-  Implements basic retry logic for CoinGecko API rate limits  \n",
    "-  Extracts OHLC price records and structures them for ingestion  \n",
    "-  Writes raw JSON files to Databricks Volumes with timestamp-based unique filenames  \n",
    "-  Serves as the upstream source for the Crypto Prices DLT pipeline  "
   ]
  },
  {
   "cell_type": "code",
   "execution_count": 0,
   "metadata": {
    "application/vnd.databricks.v1+cell": {
     "cellMetadata": {
      "byteLimit": 2048000,
      "rowLimit": 10000
     },
     "inputWidgets": {},
     "nuid": "9b4191d8-2fa9-4cae-8838-f5d869c3d24a",
     "showTitle": false,
     "tableResultSettingsMap": {},
     "title": ""
    }
   },
   "outputs": [],
   "source": [
    "# --------------------------------------------------------------------------------\n",
    "# Import Required Libraries\n",
    "# --------------------------------------------------------------------------------\n",
    "from pyspark.sql.types import StructType, StructField, StringType, TimestampType, FloatType\n",
    "from datetime import datetime\n",
    "import time\n",
    "import requests\n",
    "\n",
    "\n",
    "# --------------------------------------------------------------------------------\n",
    "# Define Coins to Track and Global Variables\n",
    "# --------------------------------------------------------------------------------\n",
    "coins = [\n",
    "    (\"bitcoin\", \"BTC\"),\n",
    "    (\"ethereum\", \"ETH\"),\n",
    "    (\"binancecoin\", \"BNB\"),\n",
    "    (\"solana\", \"SOL\"),\n",
    "    (\"ripple\", \"XRP\"),\n",
    "    (\"dogecoin\", \"DOGE\"),\n",
    "    (\"cardano\", \"ADA\"),\n",
    "    (\"polkadot\", \"DOT\")\n",
    "]\n",
    "\n",
    "vs_currency = \"usd\"\n",
    "ohlc_records = []\n",
    "\n",
    "\n",
    "# --------------------------------------------------------------------------------\n",
    "# Notebook Parameters: Batch Size and Days\n",
    "# --------------------------------------------------------------------------------\n",
    "dbutils.widgets.text(\"batch_size\", \"3\", \"Batch Size\")\n",
    "dbutils.widgets.text(\"days\", \"30\", \"Days for OHLC Data\")\n",
    "\n",
    "batch_size = int(dbutils.widgets.get(\"batch_size\"))\n",
    "days = dbutils.widgets.get(\"days\").lower()\n",
    "\n",
    "# Allowed values as per CoinGecko documentation\n",
    "allowed_days = {\"1\", \"7\", \"14\", \"30\", \"90\", \"180\", \"365\", \"max\"}\n",
    "if days not in allowed_days:\n",
    "    raise ValueError(f\"Invalid days parameter: {days}. Allowed values are: {', '.join(allowed_days)}\")\n",
    "\n",
    "\n",
    "\n",
    "# --------------------------------------------------------------------------------\n",
    "# Fetch OHLC Data in Batches with Basic Rate Limit Handling\n",
    "# --------------------------------------------------------------------------------\n",
    "for i in range(0, len(coins), batch_size):\n",
    "    batch = coins[i:i + batch_size]\n",
    "    for coin_id, symbol in batch:\n",
    "        url = f\"https://api.coingecko.com/api/v3/coins/{coin_id}/ohlc?vs_currency={vs_currency}&days={days}\"\n",
    "\n",
    "        def fetch_ohlc():\n",
    "            response = requests.get(url)\n",
    "            if response.status_code == 200:\n",
    "                return response.json()\n",
    "            elif response.status_code == 429:\n",
    "                print(f\"Rate limit hit for {symbol}. Retrying in 60s...\")\n",
    "                time.sleep(60)\n",
    "                response_retry = requests.get(url)\n",
    "                if response_retry.status_code == 200:\n",
    "                    return response_retry.json()\n",
    "                else:\n",
    "                    print(f\"Still failed to fetch OHLC data for {symbol}: {response_retry.status_code} - {response_retry.text}\")\n",
    "            else:\n",
    "                print(f\"Failed to fetch OHLC data for {symbol}: {response.status_code} - {response.text}\")\n",
    "            return None\n",
    "\n",
    "        data = fetch_ohlc()\n",
    "        if data:\n",
    "            for entry in data:\n",
    "                ohlc_records.append(\\\n",
    "                    (symbol, datetime.utcfromtimestamp(entry[0] / 1000), float(entry[1]), float(entry[2]), float(entry[3]), float(entry[4]))\n",
    "                )\n",
    "\n",
    "        time.sleep(1)\n",
    "\n",
    "    print(\"Batch complete. Waiting before next batch...\")\n",
    "    time.sleep(5)\n",
    "\n",
    "\n",
    "\n",
    "# --------------------------------------------------------------------------------\n",
    "# Create Spark DataFrame and Write to Raw Landing Volume\n",
    "# --------------------------------------------------------------------------------\n",
    "if ohlc_records:\n",
    "    schema = StructType([\n",
    "        StructField(\"symbol\", StringType(), False),\n",
    "        StructField(\"timestamp\", TimestampType(), True),\n",
    "        StructField(\"open\", FloatType(), True),\n",
    "        StructField(\"high\", FloatType(), True),\n",
    "        StructField(\"low\", FloatType(), True),\n",
    "        StructField(\"close\", FloatType(), True)\n",
    "    ])\n",
    "\n",
    "    df = spark.createDataFrame(ohlc_records, schema)\n",
    "\n",
    "    volume_path = \"/Volumes/tabular/dataexpert/sakethg/capstone/raw/crypto_prices\"\n",
    "    timestamp_str = datetime.utcnow().strftime(\"%Y%m%d_%H%M%S\")\n",
    "    unique_filename = f\"coingecko_ohlc_{timestamp_str}.json\"\n",
    "    full_path = f\"{volume_path}/{unique_filename}\"\n",
    "\n",
    "    df.write.mode(\"overwrite\").json(full_path)\n",
    "\n",
    "    print(f\"OHLC price data written to {full_path}\")\n",
    "else:\n",
    "    print(\"No OHLC records inserted.\")"
   ]
  },
  {
   "cell_type": "code",
   "execution_count": 0,
   "metadata": {
    "application/vnd.databricks.v1+cell": {
     "cellMetadata": {
      "byteLimit": 2048000,
      "rowLimit": 10000
     },
     "inputWidgets": {},
     "nuid": "e3c9cead-b7a3-40fb-bd70-77408f098f7c",
     "showTitle": false,
     "tableResultSettingsMap": {},
     "title": ""
    }
   },
   "outputs": [],
   "source": []
  }
 ],
 "metadata": {
  "application/vnd.databricks.v1+notebook": {
   "computePreferences": null,
   "dashboards": [],
   "environmentMetadata": {
    "base_environment": "",
    "environment_version": "2"
   },
   "inputWidgetPreferences": null,
   "language": "python",
   "notebookMetadata": {
    "pythonIndentUnit": 4
   },
   "notebookName": "02_Raw_Crypto_Prices_Ingestion",
   "widgets": {
    "batch_size": {
     "currentValue": "3",
     "nuid": "0d239e77-67d2-46db-9ea6-4377aceb0fd0",
     "typedWidgetInfo": {
      "autoCreated": false,
      "defaultValue": "3",
      "label": "Batch Size",
      "name": "batch_size",
      "options": {
       "widgetDisplayType": "Text",
       "validationRegex": null
      },
      "parameterDataType": "String"
     },
     "widgetInfo": {
      "widgetType": "text",
      "defaultValue": "3",
      "label": "Batch Size",
      "name": "batch_size",
      "options": {
       "widgetType": "text",
       "autoCreated": null,
       "validationRegex": null
      }
     }
    },
    "days": {
     "currentValue": "30",
     "nuid": "24380a03-7b25-49a1-a8d6-54f56b98d5ca",
     "typedWidgetInfo": {
      "autoCreated": false,
      "defaultValue": "30",
      "label": "Days for OHLC Data",
      "name": "days",
      "options": {
       "widgetDisplayType": "Text",
       "validationRegex": null
      },
      "parameterDataType": "String"
     },
     "widgetInfo": {
      "widgetType": "text",
      "defaultValue": "30",
      "label": "Days for OHLC Data",
      "name": "days",
      "options": {
       "widgetType": "text",
       "autoCreated": null,
       "validationRegex": null
      }
     }
    }
   }
  },
  "language_info": {
   "name": "python"
  }
 },
 "nbformat": 4,
 "nbformat_minor": 0
}
